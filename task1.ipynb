{
  "nbformat": 4,
  "nbformat_minor": 0,
  "metadata": {
    "colab": {
      "provenance": []
    },
    "kernelspec": {
      "name": "python3",
      "display_name": "Python 3"
    },
    "language_info": {
      "name": "python"
    }
  },
  "cells": [
    {
      "cell_type": "markdown",
      "source": [
        "SUPERVISED MACHINE LEARNING:\n",
        "\n",
        "Supervised machine learning is a type of machine learning where the algorithm is trained on a labeled dataset. In supervised learning, the algorithm learns from examples that contain both input data and corresponding output labels. The goal is to learn a mapping from the input to the output so that the algorithm can make accurate predictions or classifications on new, unseen data\n"
      ],
      "metadata": {
        "id": "zyJRU0XtrgQe"
      }
    },
    {
      "cell_type": "markdown",
      "source": [
        "SIMPLE LINEAR REGRESSION:\n",
        "\n",
        "Simple linear regression is a type of linear regression where there is only one independent variable used to predict the outcome (dependent variable). The relationship between the independent variable (\n",
        "x\n",
        "x) and the dependent variable (\n",
        "y\n",
        "y) is modeled as a straight line. The equation for simple linear regression is:\n",
        "\n",
        "y\n",
        "=\n",
        "m\n",
        "x\n",
        "+\n",
        "b\n",
        "y=mx+b\n",
        "\n",
        "Where:\n",
        "\n",
        "\n",
        "y is the dependent variable,\n",
        "\n",
        "x is the independent variable,\n",
        "\n",
        "m is the slope of the line (how much\n",
        "\n",
        "y changes for a unit change in\n",
        "x),\n",
        "\n",
        "b is the y-intercept (the value of\n",
        "y\n",
        " when\n",
        "x is 0)."
      ],
      "metadata": {
        "id": "s_k3ZqhtrsSC"
      }
    },
    {
      "cell_type": "markdown",
      "source": [
        "DATA:\n",
        "Data is the foundation of machine learning. It includes the input features (independent variables) and the corresponding output labels (dependent variable) for supervised learning. The quality and quantity of data significantly impact the performance of machine learning models."
      ],
      "metadata": {
        "id": "eQd_3ifosSeR"
      }
    },
    {
      "cell_type": "code",
      "source": [
        "# Import necessary libraries\n",
        "import pandas as pd\n",
        "from sklearn.model_selection import train_test_split\n",
        "from sklearn.linear_model import LinearRegression\n",
        "import matplotlib.pyplot as plt"
      ],
      "metadata": {
        "id": "o5YtXe2DuD2h"
      },
      "execution_count": null,
      "outputs": []
    },
    {
      "cell_type": "code",
      "source": [
        "# Load the data\n",
        "data = {\n",
        "    'Hours': [2.5, 5.1, 3.2, 8.5, 3.5, 1.5, 9.2, 5.5, 8.3, 2.7, 7.7, 5.9, 4.5, 3.3, 1.1, 8.9, 2.5, 1.9, 6.1, 7.4, 2.7, 4.8, 3.8, 6.9, 7.8],\n",
        "    'Scores': [21, 47, 27, 75, 30, 20, 88, 60, 81, 25, 85, 62, 41, 42, 17, 95, 30, 24, 67, 69, 30, 54, 35, 76, 86]\n",
        "}\n",
        "\n",
        "df = pd.DataFrame(data)\n"
      ],
      "metadata": {
        "id": "eSuZJBijuOo3"
      },
      "execution_count": null,
      "outputs": []
    },
    {
      "cell_type": "code",
      "source": [
        "# Plotting the distribution of scores\n",
        "df.plot(x='Hours', y='Scores', style='o')\n",
        "plt.title('Hours vs Percentage')\n",
        "plt.xlabel('Hours Studied')\n",
        "plt.ylabel('Percentage Score')\n",
        "plt.show()"
      ],
      "metadata": {
        "colab": {
          "base_uri": "https://localhost:8080/",
          "height": 472
        },
        "id": "n2VU-QWIDjpi",
        "outputId": "fbf5b642-cf0f-4cb6-c61c-437788e8e1b7"
      },
      "execution_count": null,
      "outputs": [
        {
          "output_type": "display_data",
          "data": {
            "text/plain": [
              "<Figure size 640x480 with 1 Axes>"
            ],
            "image/png": "[encoded data removed]"
          },
          "metadata": {}
        }
      ]
    },
    {
      "cell_type": "markdown",
      "source": [
        "COMPONENTS OF MACHINE LEARNING:\n",
        "\n",
        "Input Data (Features):\n",
        "\n",
        "This is the set of variables or features that the algorithm uses to make predictions.In the data you provided, the features are represented by the \"Hours\" column. Each row in the dataset corresponds to an observation or instance, and the \"Hours\" column contains the values of the independent variable (features).\n",
        "\n"
      ],
      "metadata": {
        "id": "SzlsepkjsbeY"
      }
    },
    {
      "cell_type": "markdown",
      "source": [
        "Output Labels (Target Variable):\n",
        "\n",
        "These are the labels or values that the algorithm is trying to predict.\n",
        "In the data provided, the output labels (target variable) are represented by the \"Scores\" column. Each value in the \"Scores\" column corresponds to the outcome or dependent variable that you are trying to predict or explain based on the input feature, which is the \"Hours\" column."
      ],
      "metadata": {
        "id": "xYOmGyHOtD0Q"
      }
    },
    {
      "cell_type": "markdown",
      "source": [
        "Training Data:\n",
        "\n",
        "The labeled dataset used to train the model. It consists of pairs of input data and corresponding output labels.\n"
      ],
      "metadata": {
        "id": "Azp7okaXtSUs"
      }
    },
    {
      "cell_type": "code",
      "source": [
        "# Split the data into training and testing sets\n",
        "X_train, X_test, y_train, y_test = train_test_split(df['Hours'].values.reshape(-1, 1), df['Scores'], test_size=0.2, random_state=42)\n"
      ],
      "metadata": {
        "id": "5GpYuKS0rrp4"
      },
      "execution_count": null,
      "outputs": []
    },
    {
      "cell_type": "markdown",
      "source": [
        "Model:\n",
        "The algorithm or mathematical function that the machine learning system uses to make predictions. The model is trained on the training data to learn the relationships between inputs and outputs."
      ],
      "metadata": {
        "id": "da9KiKHvueJY"
      }
    },
    {
      "cell_type": "code",
      "source": [
        "# Create a linear regression model\n",
        "model = LinearRegression()\n",
        "\n",
        "# Train the model\n",
        "model.fit(X_train, y_train)"
      ],
      "metadata": {
        "colab": {
          "base_uri": "https://localhost:8080/",
          "height": 74
        },
        "id": "wITfh6iQrf2j",
        "outputId": "13f707a9-5e08-4d95-9d7f-4384b0379db9"
      },
      "execution_count": null,
      "outputs": [
        {
          "output_type": "execute_result",
          "data": {
            "text/plain": [
              "LinearRegression()"
            ],
            "text/html": [
              "<style>#sk-container-id-1 {color: black;background-color: white;}#sk-container-id-1 pre{padding: 0;}#sk-container-id-1 div.sk-toggleable {background-color: white;}#sk-container-id-1 label.sk-toggleable__label {cursor: pointer;display: block;width: 100%;margin-bottom: 0;padding: 0.3em;box-sizing: border-box;text-align: center;}#sk-container-id-1 label.sk-toggleable__label-arrow:before {content: \"▸\";float: left;margin-right: 0.25em;color: #696969;}#sk-container-id-1 label.sk-toggleable__label-arrow:hover:before {color: black;}#sk-container-id-1 div.sk-estimator:hover label.sk-toggleable__label-arrow:before {color: black;}#sk-container-id-1 div.sk-toggleable__content {max-height: 0;max-width: 0;overflow: hidden;text-align: left;background-color: #f0f8ff;}#sk-container-id-1 div.sk-toggleable__content pre {margin: 0.2em;color: black;border-radius: 0.25em;background-color: #f0f8ff;}#sk-container-id-1 input.sk-toggleable__control:checked~div.sk-toggleable__content {max-height: 200px;max-width: 100%;overflow: auto;}#sk-container-id-1 input.sk-toggleable__control:checked~label.sk-toggleable__label-arrow:before {content: \"▾\";}#sk-container-id-1 div.sk-estimator input.sk-toggleable__control:checked~label.sk-toggleable__label {background-color: #d4ebff;}#sk-container-id-1 div.sk-label input.sk-toggleable__control:checked~label.sk-toggleable__label {background-color: #d4ebff;}#sk-container-id-1 input.sk-hidden--visually {border: 0;clip: rect(1px 1px 1px 1px);clip: rect(1px, 1px, 1px, 1px);height: 1px;margin: -1px;overflow: hidden;padding: 0;position: absolute;width: 1px;}#sk-container-id-1 div.sk-estimator {font-family: monospace;background-color: #f0f8ff;border: 1px dotted black;border-radius: 0.25em;box-sizing: border-box;margin-bottom: 0.5em;}#sk-container-id-1 div.sk-estimator:hover {background-color: #d4ebff;}#sk-container-id-1 div.sk-parallel-item::after {content: \"\";width: 100%;border-bottom: 1px solid gray;flex-grow: 1;}#sk-container-id-1 div.sk-label:hover label.sk-toggleable__label {background-color: #d4ebff;}#sk-container-id-1 div.sk-serial::before {content: \"\";position: absolute;border-left: 1px solid gray;box-sizing: border-box;top: 0;bottom: 0;left: 50%;z-index: 0;}#sk-container-id-1 div.sk-serial {display: flex;flex-direction: column;align-items: center;background-color: white;padding-right: 0.2em;padding-left: 0.2em;position: relative;}#sk-container-id-1 div.sk-item {position: relative;z-index: 1;}#sk-container-id-1 div.sk-parallel {display: flex;align-items: stretch;justify-content: center;background-color: white;position: relative;}#sk-container-id-1 div.sk-item::before, #sk-container-id-1 div.sk-parallel-item::before {content: \"\";position: absolute;border-left: 1px solid gray;box-sizing: border-box;top: 0;bottom: 0;left: 50%;z-index: -1;}#sk-container-id-1 div.sk-parallel-item {display: flex;flex-direction: column;z-index: 1;position: relative;background-color: white;}#sk-container-id-1 div.sk-parallel-item:first-child::after {align-self: flex-end;width: 50%;}#sk-container-id-1 div.sk-parallel-item:last-child::after {align-self: flex-start;width: 50%;}#sk-container-id-1 div.sk-parallel-item:only-child::after {width: 0;}#sk-container-id-1 div.sk-dashed-wrapped {border: 1px dashed gray;margin: 0 0.4em 0.5em 0.4em;box-sizing: border-box;padding-bottom: 0.4em;background-color: white;}#sk-container-id-1 div.sk-label label {font-family: monospace;font-weight: bold;display: inline-block;line-height: 1.2em;}#sk-container-id-1 div.sk-label-container {text-align: center;}#sk-container-id-1 div.sk-container {/* jupyter's `normalize.less` sets `[hidden] { display: none; }` but bootstrap.min.css set `[hidden] { display: none !important; }` so we also need the `!important` here to be able to override the default hidden behavior on the sphinx rendered scikit-learn.org. See: https://github.com/scikit-learn/scikit-learn/issues/21755 */display: inline-block !important;position: relative;}#sk-container-id-1 div.sk-text-repr-fallback {display: none;}</style><div id=\"sk-container-id-1\" class=\"sk-top-container\"><div class=\"sk-text-repr-fallback\"><pre>LinearRegression()</pre><b>In a Jupyter environment, please rerun this cell to show the HTML representation or trust the notebook. <br />On GitHub, the HTML representation is unable to render, please try loading this page with nbviewer.org.</b></div><div class=\"sk-container\" hidden><div class=\"sk-item\"><div class=\"sk-estimator sk-toggleable\"><input class=\"sk-toggleable__control sk-hidden--visually\" id=\"sk-estimator-id-1\" type=\"checkbox\" checked><label for=\"sk-estimator-id-1\" class=\"sk-toggleable__label sk-toggleable__label-arrow\">LinearRegression</label><div class=\"sk-toggleable__content\"><pre>LinearRegression()</pre></div></div></div></div></div>"
            ]
          },
          "metadata": {},
          "execution_count": 6
        }
      ]
    },
    {
      "cell_type": "markdown",
      "source": [
        "Testing/Evaluation:\n",
        "\n",
        "After training, the model is evaluated on a separate set of data (testing set) to assess its performance on unseen examples."
      ],
      "metadata": {
        "id": "AJRG0qVMuzYd"
      }
    },
    {
      "cell_type": "code",
      "source": [
        "# Make predictions on the test set\n",
        "print(X_test)\n",
        "y_pred = model.predict(X_test)\n",
        "y_pred"
      ],
      "metadata": {
        "colab": {
          "base_uri": "https://localhost:8080/"
        },
        "id": "lgYkE1rmuwM-",
        "outputId": "fb474fcc-c083-42fb-99c2-749a323bb404"
      },
      "execution_count": null,
      "outputs": [
        {
          "output_type": "stream",
          "name": "stdout",
          "text": [
            "[[8.3]\n",
            " [2.5]\n",
            " [2.5]\n",
            " [6.9]\n",
            " [5.9]]\n"
          ]
        },
        {
          "output_type": "execute_result",
          "data": {
            "text/plain": [
              "array([83.18814104, 27.03208774, 27.03208774, 69.63323162, 59.95115347])"
            ]
          },
          "metadata": {},
          "execution_count": 15
        }
      ]
    },
    {
      "cell_type": "code",
      "execution_count": null,
      "metadata": {
        "colab": {
          "base_uri": "https://localhost:8080/"
        },
        "id": "QaE7CaIIqjPx",
        "outputId": "e68f4f0c-4b90-4145-9434-8245d3ecdabb"
      },
      "outputs": [
        {
          "output_type": "stream",
          "name": "stdout",
          "text": [
            "Intercept: 2.826892353899737\n",
            "Coefficient: 9.682078154455697\n"
          ]
        }
      ],
      "source": [
        "# Print the coefficients\n",
        "print(f'Intercept: {model.intercept_}')\n",
        "print(f'Coefficient: {model.coef_[0]}')"
      ]
    },
    {
      "cell_type": "code",
      "source": [
        "# Plot the regression line\n",
        "plt.scatter(X_test, y_test, color='black')\n",
        "plt.plot(X_test, y_pred, color='blue', linewidth=3)\n",
        "plt.title('Linear Regression Model')\n",
        "plt.xlabel('Hours')\n",
        "plt.ylabel('Scores')\n",
        "plt.show()"
      ],
      "metadata": {
        "colab": {
          "base_uri": "https://localhost:8080/",
          "height": 472
        },
        "id": "dI-txj0hvDvE",
        "outputId": "bdd96e52-4daa-4da4-c2af-b8859b6c7b0c"
      },
      "execution_count": null,
      "outputs": [
        {
          "output_type": "display_data",
          "data": {
            "text/plain": [
              "<Figure size 640x480 with 1 Axes>"
            ],
            "image/png": "[encoded data removed]"
          },
          "metadata": {}
        }
      ]
    },
    {
      "cell_type": "code",
      "source": [
        "# Input the number of study hours for prediction\n",
        "new_hours = 9.25\n",
        "\n",
        "# Reshape the input for prediction\n",
        "new_hours_reshaped = [[new_hours]]\n",
        "\n",
        "# Use the trained model to make a prediction\n",
        "predicted_score = model.predict(new_hours_reshaped)[0]\n",
        "\n",
        "# Print the predicted score\n",
        "print(f'Predicted Score for {new_hours} hours of study: {predicted_score:.2f}%')\n"
      ],
      "metadata": {
        "colab": {
          "base_uri": "https://localhost:8080/"
        },
        "id": "Ls_ghGOjq_Vs",
        "outputId": "8015cf33-9a84-49d2-c5e6-7672ec31947c"
      },
      "execution_count": null,
      "outputs": [
        {
          "output_type": "stream",
          "name": "stdout",
          "text": [
            "Predicted Score for 9.25 hours of study: 92.39%\n"
          ]
        }
      ]
    },
    {
      "cell_type": "code",
      "source": [
        "from sklearn.metrics import mean_squared_error, mean_absolute_error, r2_score\n",
        "import numpy as np\n",
        "\n",
        "\n",
        "\n",
        "y_pred = model.predict(X_test)  # Assuming X_test is the independent variable values in the test set\n",
        "\n",
        "# Calculate evaluation metrics\n",
        "mse = mean_squared_error(y_test, y_pred)\n",
        "rmse = np.sqrt(mse)\n",
        "mae = mean_absolute_error(y_test, y_pred)\n",
        "r_squared = r2_score(y_test, y_pred)\n",
        "\n",
        "# Print the metrics\n",
        "print(f'Mean Squared Error (MSE): {mse:.2f}')\n",
        "print(f'Root Mean Squared Error (RMSE): {rmse:.2f}')\n",
        "print(f'Mean Absolute Error (MAE): {mae:.2f}')\n",
        "print(f'R-squared (R^2): {r_squared:.2f}')\n"
      ],
      "metadata": {
        "colab": {
          "base_uri": "https://localhost:8080/"
        },
        "id": "Gozfxw0SvaZY",
        "outputId": "0583ddbc-8bd5-4834-d67e-d6cb4a5f433a"
      },
      "execution_count": null,
      "outputs": [
        {
          "output_type": "stream",
          "name": "stdout",
          "text": [
            "Mean Squared Error (MSE): 18.94\n",
            "Root Mean Squared Error (RMSE): 4.35\n",
            "Mean Absolute Error (MAE): 3.92\n",
            "R-squared (R^2): 0.97\n"
          ]
        }
      ]
    }
  ]
}